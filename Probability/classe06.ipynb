{
 "cells": [
  {
   "cell_type": "markdown",
   "source": [
    "## Uma urna tem 8 bolas azuis e 12 bolas brancas."
   ],
   "metadata": {}
  },
  {
   "cell_type": "markdown",
   "source": [
    "## b) Simule a retirada de 9 bolas sem reposição. Repita 99 vezes, ou seja, você está fazendo 100 réplicas. Calcule a frequência relativa de que a 9a. bola retirada seja azul. Submeter o código junto com o exercício."
   ],
   "metadata": {}
  },
  {
   "cell_type": "code",
   "execution_count": 48,
   "source": [
    "from collections import defaultdict\n",
    "\n",
    "def calcularDistribuicaoFrequencia(valores):\n",
    "    # Contando as frequências por valor:\n",
    "    distFreqAbs = defaultdict(int)\n",
    "    distFreqRel = defaultdict(int)\n",
    "    total = 0\n",
    "    for valor in valores:\n",
    "        distFreqAbs[valor] += 1\n",
    "        total += 1\n",
    "    \n",
    "    # Transformando em frequência relativa:\n",
    "    for key in distFreqAbs.keys():\n",
    "        distFreqRel[key] = distFreqAbs[key]/total\n",
    "\n",
    "    return (distFreqAbs, distFreqRel)"
   ],
   "outputs": [],
   "metadata": {}
  },
  {
   "cell_type": "code",
   "execution_count": 49,
   "source": [
    "import random\n",
    "\n",
    "azul = \"azul\"\n",
    "branca = \"branca\"\n",
    "numAzuis = 8\n",
    "numBrancas = 12\n",
    "numBolas = numAzuis + numBrancas\n",
    "\n",
    "bolas = [azul]*numAzuis # índices 0 a 7\n",
    "for i in range(numBrancas):\n",
    "    bolas.append(branca) # índices 8 a 19\n",
    "\n",
    "# Lista auxiliar:\n",
    "retirada = [False]*(numBolas)\n",
    "\n",
    "corBolasRetiradas = [] # na nona bola.\n",
    "random.seed(a=None) # horário atual é usado como semente.\n",
    "\n",
    "for i in range(100):\n",
    "    amostra = bolas.copy()\n",
    "    numRetiradas = 0\n",
    "    corBolaRetirada = \"\"\n",
    "    numBolasRestantes = numBolas\n",
    "\n",
    "    while numRetiradas < 9:\n",
    "\n",
    "        indiceBola = random.randint(0,numBolasRestantes-1)\n",
    "        corBolaRetirada = amostra[indiceBola]\n",
    "        amostra.pop(indiceBola)\n",
    "        numRetiradas += 1\n",
    "        numBolasRestantes -= 1\n",
    "    \n",
    "    corBolasRetiradas.append(corBolaRetirada)\n",
    "\n",
    "# Frequência:\n",
    "_, freqRel = calcularDistribuicaoFrequencia(corBolasRetiradas)\n",
    "\n",
    "for key in freqRel.keys():\n",
    "    print(key, \":\", freqRel[key])\n",
    "    "
   ],
   "outputs": [
    {
     "output_type": "stream",
     "name": "stdout",
     "text": [
      "azul : 0.44\n",
      "branca : 0.56\n"
     ]
    }
   ],
   "metadata": {}
  },
  {
   "cell_type": "code",
   "execution_count": null,
   "source": [],
   "outputs": [],
   "metadata": {}
  }
 ],
 "metadata": {
  "orig_nbformat": 4,
  "language_info": {
   "name": "python",
   "version": "3.8.3",
   "mimetype": "text/x-python",
   "codemirror_mode": {
    "name": "ipython",
    "version": 3
   },
   "pygments_lexer": "ipython3",
   "nbconvert_exporter": "python",
   "file_extension": ".py"
  },
  "kernelspec": {
   "name": "python3",
   "display_name": "Python 3.8.3 64-bit ('base': conda)"
  },
  "interpreter": {
   "hash": "6dc063bdbbe44691e22c3c6f3d482e3b201184e610250b23f558b6dcdc5ba41e"
  }
 },
 "nbformat": 4,
 "nbformat_minor": 2
}