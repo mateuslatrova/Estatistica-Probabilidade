{
 "cells": [
  {
   "cell_type": "code",
   "execution_count": 10,
   "source": [
    "from collections import defaultdict"
   ],
   "outputs": [],
   "metadata": {}
  },
  {
   "cell_type": "code",
   "execution_count": 11,
   "source": [
    "def calcularDistribuicaoFrequencia(valores):\n",
    "    # Contando as frequências por valor:\n",
    "    distFreqAbs = defaultdict(int)\n",
    "    distFreqRel = defaultdict(int)\n",
    "    total = 0\n",
    "    for valor in valores:\n",
    "        distFreqAbs[valor] += 1\n",
    "        total += 1\n",
    "    \n",
    "    # Transformando em frequência relativa:\n",
    "    for key in distFreqAbs.keys():\n",
    "        distFreqRel[key] = distFreqAbs[key]/total\n",
    "\n",
    "    return (distFreqAbs, distFreqRel)"
   ],
   "outputs": [],
   "metadata": {}
  },
  {
   "cell_type": "code",
   "execution_count": 21,
   "source": [
    "n = 40 # número de amostras\n",
    "X = [1,3,2,3,2,2,3,1,2,3,2,3,1,2,3,4,1,2,2,2,2,3,4,1,2,3,4,1,4,3,2,1,1,2,4,3,1,3,2,2]\n",
    "Y = [6,2,4,1,4,1,3,5,2,2,5,2,6,6,2,2,5,5,1,1,6,2,1,5,4,2,1,5,4,3,2,1,1,6,2,1,4,2,3,5]\n",
    "\n",
    "Xord = X.copy()\n",
    "Yord = Y.copy()\n",
    "Xord.sort()\n",
    "Yord.sort()\n",
    "\n",
    "medianaX = (Xord[n//2-1] + Xord[n//2])/2\n",
    "medianaY = (Yord[n//2-1] + Yord[n//2])/2\n",
    "\n",
    "freqX, _ = calcularDistribuicaoFrequencia(X)\n",
    "freqY, _ = calcularDistribuicaoFrequencia(Y)\n",
    "\n",
    "altoX, altoY, baixoX, baixoY = 0, 0, 0, 0\n",
    "\n",
    "for key in freqX.keys():\n",
    "    if key <= medianaX:\n",
    "        baixoX += freqX[key]\n",
    "    else:\n",
    "        altoX += freqX[key]\n",
    "\n",
    "for key in freqY.keys():\n",
    "    if key <= medianaY:\n",
    "        baixoY += freqY[key]\n",
    "    else:\n",
    "        altoY += freqY[key]\n",
    "\n",
    "print(\"Distribuição de frequência de X:\", freqX)\n",
    "print(\"Altos em X:\", altoX)\n",
    "print(\"Baixos em X:\", baixoX, \"\\n\")\n",
    "\n",
    "print(\"Distribuição de frequência de Y:\",freqY)\n",
    "print(\"Altos em Y:\", altoY)\n",
    "print(\"Baixos em Y:\", baixoY)\n"
   ],
   "outputs": [
    {
     "output_type": "stream",
     "name": "stdout",
     "text": [
      "Distribuição de frequência de X: defaultdict(<class 'int'>, {1: 9, 3: 11, 2: 15, 4: 5})\n",
      "Altos em X: 16\n",
      "Baixos em X: 24 \n",
      "\n",
      "Distribuição de frequência de Y: defaultdict(<class 'int'>, {6: 5, 2: 11, 4: 5, 1: 9, 3: 3, 5: 7})\n",
      "Altos em Y: 20\n",
      "Baixos em Y: 20\n"
     ]
    }
   ],
   "metadata": {}
  }
 ],
 "metadata": {
  "orig_nbformat": 4,
  "language_info": {
   "name": "python",
   "version": "3.8.3",
   "mimetype": "text/x-python",
   "codemirror_mode": {
    "name": "ipython",
    "version": 3
   },
   "pygments_lexer": "ipython3",
   "nbconvert_exporter": "python",
   "file_extension": ".py"
  },
  "kernelspec": {
   "name": "python3",
   "display_name": "Python 3.8.3 64-bit ('base': conda)"
  },
  "interpreter": {
   "hash": "6dc063bdbbe44691e22c3c6f3d482e3b201184e610250b23f558b6dcdc5ba41e"
  }
 },
 "nbformat": 4,
 "nbformat_minor": 2
}